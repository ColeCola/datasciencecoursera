{
 "cells": [
  {
   "cell_type": "markdown",
   "metadata": {},
   "source": [
    "Veri Setinin Eksik Verilerden Temizlenmesi Çalışması\n",
    "Veri temizleme çalışmasına hoşgeldiniz. Bu çalışmada , veri setlerinde bulunan eksik ve yanlış verilerin veri setinden nasıl temizleneceğini ve eksik veriler yerine nasıl veri ekleneceğini göreceğiz.\n",
    "\n",
    "Bugünkü derste yapacaklarımızı şöyle bir özetleyelim,\n",
    "\n",
    "-Öncelikle veri setimizi inceliyoruz\n",
    "-Sonra veri setimizde eksik veri olup olmadığını tesbit ediyoruz.\n",
    "-Eksik verilerimizin hangi sebeplerden kaynaklandığına bakacağız.\n",
    "-Eksik verilerimizi veri setinden temizleyeceğiz.\n",
    "-Eksik veriler yerine başka değerler ekleyeceğiz.\n",
    "1-Veri Setini İncelemek\n",
    "\n",
    "Öncelikle Python'da kullanacağımız kütüphaneyi ve veri setimizi notebook platformuna yüklüyoruz. Bugünkü çalışmamızda Amerikan Futbol oyunlarında meydana gelen olayların istatistiğini göstereceğim, bu çalışmada veri setine izin verilen San Francisco bölgesi veri setini kullanacağız."
   ]
  },
  {
   "cell_type": "code",
   "execution_count": 6,
   "metadata": {},
   "outputs": [
    {
     "name": "stderr",
     "output_type": "stream",
     "text": [
      "/Users/saitalay/anaconda3/lib/python3.6/site-packages/IPython/core/interactiveshell.py:2728: DtypeWarning: Columns (25,51) have mixed types. Specify dtype option on import or set low_memory=False.\n",
      "  interactivity=interactivity, compiler=compiler, result=result)\n",
      "/Users/saitalay/anaconda3/lib/python3.6/site-packages/IPython/core/interactiveshell.py:2728: DtypeWarning: Columns (22,32) have mixed types. Specify dtype option on import or set low_memory=False.\n",
      "  interactivity=interactivity, compiler=compiler, result=result)\n"
     ]
    }
   ],
   "source": [
    "# Kullanacağımız modül ve kütüphaneler\n",
    "import pandas as pd\n",
    "import numpy as np\n",
    "\n",
    "# Verilerimizi ilgili veri setinden okuyoruz\n",
    "nlf_data = pd.read_csv(\"../saitalay/Projeler/VeriBilimi/Kaggle/NFL Play by Play 2009-2017 (v4).csv\")\n",
    "sf_permits = pd.read_csv(\"../saitalay/Projeler/VeriBilimi/Kaggle/Building_Permits.csv\")\n",
    "\n",
    "# Tekrar işlemleri için (np.random.seed(0)) kodunu ekliyoruz.\n",
    "np.random.seed(0) "
   ]
  }
 ],
 "metadata": {
  "kernelspec": {
   "display_name": "Python 3",
   "language": "python",
   "name": "python3"
  },
  "language_info": {
   "codemirror_mode": {
    "name": "ipython",
    "version": 3
   },
   "file_extension": ".py",
   "mimetype": "text/x-python",
   "name": "python",
   "nbconvert_exporter": "python",
   "pygments_lexer": "ipython3",
   "version": "3.6.4"
  }
 },
 "nbformat": 4,
 "nbformat_minor": 2
}
